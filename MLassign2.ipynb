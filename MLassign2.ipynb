{
  "nbformat": 4,
  "nbformat_minor": 0,
  "metadata": {
    "colab": {
      "name": "MLassign2.ipynb",
      "provenance": []
    },
    "kernelspec": {
      "name": "python3",
      "display_name": "Python 3"
    }
  },
  "cells": [
    {
      "cell_type": "markdown",
      "metadata": {
        "id": "UMdd-xou48OW",
        "colab_type": "text"
      },
      "source": [
        "# **ML Assignment 2**"
      ]
    },
    {
      "cell_type": "code",
      "metadata": {
        "id": "03QiO6B85Dgc",
        "colab_type": "code",
        "colab": {
          "base_uri": "https://localhost:8080/",
          "height": 199
        },
        "outputId": "316a4e9c-fb3b-4233-e260-6be12eefadc0"
      },
      "source": [
        "row=0\n",
        "star=1\n",
        "while( row<10):\n",
        "  if (row<=5):\n",
        "    col=0\n",
        "    star=row\n",
        "    while(col<star):\n",
        "      print(\"*\",end=\"\")\n",
        "      col=col+1\n",
        "  elif row>5:\n",
        "    col=0\n",
        "    star=star-1\n",
        "    while(col<star):\n",
        "      print(\"*\",end=\"\")\n",
        "      col=col+1\n",
        "  row=row+1\n",
        "  print()"
      ],
      "execution_count": 4,
      "outputs": [
        {
          "output_type": "stream",
          "text": [
            "\n",
            "*\n",
            "**\n",
            "***\n",
            "****\n",
            "*****\n",
            "****\n",
            "***\n",
            "**\n",
            "*\n"
          ],
          "name": "stdout"
        }
      ]
    },
    {
      "cell_type": "code",
      "metadata": {
        "id": "v5MQSPTv5G6w",
        "colab_type": "code",
        "colab": {
          "base_uri": "https://localhost:8080/",
          "height": 54
        },
        "outputId": "097c892c-b80e-4911-9430-c8550d3cf5f5"
      },
      "source": [
        "word= input()\n",
        "word[::-1]"
      ],
      "execution_count": 2,
      "outputs": [
        {
          "output_type": "stream",
          "text": [
            "ineuron\n"
          ],
          "name": "stdout"
        },
        {
          "output_type": "execute_result",
          "data": {
            "application/vnd.google.colaboratory.intrinsic+json": {
              "type": "string"
            },
            "text/plain": [
              "'norueni'"
            ]
          },
          "metadata": {
            "tags": []
          },
          "execution_count": 2
        }
      ]
    }
  ]
}