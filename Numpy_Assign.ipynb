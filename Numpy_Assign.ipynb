{
  "nbformat": 4,
  "nbformat_minor": 0,
  "metadata": {
    "colab": {
      "name": "Numpy_Assign",
      "provenance": [],
      "collapsed_sections": []
    },
    "kernelspec": {
      "name": "python3",
      "display_name": "Python 3"
    }
  },
  "cells": [
    {
      "cell_type": "markdown",
      "metadata": {
        "id": "-FjM3rtCCP_g"
      },
      "source": [
        "# **NUMPY ASSIGNMENT**"
      ]
    },
    {
      "cell_type": "code",
      "metadata": {
        "id": "x2C_eJlurtrs"
      },
      "source": [
        "import numpy as np"
      ],
      "execution_count": 43,
      "outputs": []
    },
    {
      "cell_type": "code",
      "metadata": {
        "id": "lQH3XJOQzP8I"
      },
      "source": [
        "# Write a function so that the columns of the output matrix are powers of the input\n",
        "# vector.\n",
        "# The order of the powers is determined by the increasing boolean argument. Specifically, when\n",
        "# increasing is False, the i-th output column is the input vector raised element-wise to the power\n",
        "# of N - i - 1.\n",
        "\n",
        "# HINT: Such a matrix with a geometric progression in each row is named for Alexandre-\n",
        "# Theophile Vandermonde."
      ],
      "execution_count": null,
      "outputs": []
    },
    {
      "cell_type": "code",
      "metadata": {
        "id": "_edDPxtnqrUP"
      },
      "source": [
        "def mvan(vector, n ,increasing ):\n",
        "  l=[]\n",
        "  for i in range(n):\n",
        "    row=[]\n",
        "    for j in range(n):\n",
        "      if(increasing ==True):\n",
        "        row.append(vector[i]**j)\n",
        "      else:\n",
        "        row.append(vector[i]**(n-1-j))\n",
        "    l.append(row)\n",
        " \n",
        "  return np.array(l) "
      ],
      "execution_count": 54,
      "outputs": []
    },
    {
      "cell_type": "code",
      "metadata": {
        "id": "825TWbF2tSRU",
        "outputId": "75fbfda5-d8a6-4fe3-b593-ad83d640cc3c",
        "colab": {
          "base_uri": "https://localhost:8080/",
          "height": 108
        }
      },
      "source": [
        "print(mvan([1,2,3,4,5],5,False))"
      ],
      "execution_count": 55,
      "outputs": [
        {
          "output_type": "stream",
          "text": [
            "[[  1   1   1   1   1]\n",
            " [ 16   8   4   2   1]\n",
            " [ 81  27   9   3   1]\n",
            " [256  64  16   4   1]\n",
            " [625 125  25   5   1]]\n"
          ],
          "name": "stdout"
        }
      ]
    },
    {
      "cell_type": "code",
      "metadata": {
        "id": "n7KqkRoktXhS",
        "outputId": "3c2cda35-98c9-4e9b-a39f-152901980823",
        "colab": {
          "base_uri": "https://localhost:8080/",
          "height": 108
        }
      },
      "source": [
        "print(mvan([1,2,3,4,5],5,True))"
      ],
      "execution_count": 56,
      "outputs": [
        {
          "output_type": "stream",
          "text": [
            "[[  1   1   1   1   1]\n",
            " [  1   2   4   8  16]\n",
            " [  1   3   9  27  81]\n",
            " [  1   4  16  64 256]\n",
            " [  1   5  25 125 625]]\n"
          ],
          "name": "stdout"
        }
      ]
    },
    {
      "cell_type": "code",
      "metadata": {
        "id": "b28buDN31zHW"
      },
      "source": [
        "# Question: Write a function to find moving average in an array over a window:\n",
        "# Test it over [3, 5, 7, 2, 8, 10, 11, 65, 72, 81, 99, 100, 150] and window of 3."
      ],
      "execution_count": null,
      "outputs": []
    },
    {
      "cell_type": "code",
      "metadata": {
        "id": "WfD9d5n8zBhP"
      },
      "source": [
        "def moving_average(arr, window):\n",
        "    start=0\n",
        "    end=window-1\n",
        "    while(end<len(arr)):\n",
        "        average=0\n",
        "        for i in range(start,end+1):\n",
        "            average=average+arr[i]\n",
        "        average= average/window\n",
        "        print(\"y\",start+1,\" = \",average,sep=\"\")\n",
        "        end=end+1\n",
        "        start=start+1"
      ],
      "execution_count": 64,
      "outputs": []
    },
    {
      "cell_type": "code",
      "metadata": {
        "id": "NQZAPoz70iGg",
        "outputId": "43f860ca-3b27-440d-c109-509a59f19aa9",
        "colab": {
          "base_uri": "https://localhost:8080/",
          "height": 144
        }
      },
      "source": [
        "arr=[10,20,30,40,50,60,70,80,90,100]\n",
        "window=4\n",
        "moving_average(arr, window)"
      ],
      "execution_count": 65,
      "outputs": [
        {
          "output_type": "stream",
          "text": [
            "y1 = 25.0\n",
            "y2 = 35.0\n",
            "y3 = 45.0\n",
            "y4 = 55.0\n",
            "y5 = 65.0\n",
            "y6 = 75.0\n",
            "y7 = 85.0\n"
          ],
          "name": "stdout"
        }
      ]
    },
    {
      "cell_type": "code",
      "metadata": {
        "id": "BZy1tr4G0wli",
        "outputId": "59b46bd0-ded6-42fe-baca-1f5d669fe0db",
        "colab": {
          "base_uri": "https://localhost:8080/",
          "height": 217
        }
      },
      "source": [
        "arr=[3 ,5 ,7, 2, 8, 10, 11, 65, 72, 81, 99, 100, 150]\n",
        "window=3\n",
        "moving_average(arr,window)"
      ],
      "execution_count": 66,
      "outputs": [
        {
          "output_type": "stream",
          "text": [
            "y1 = 5.0\n",
            "y2 = 4.666666666666667\n",
            "y3 = 5.666666666666667\n",
            "y4 = 6.666666666666667\n",
            "y5 = 9.666666666666666\n",
            "y6 = 28.666666666666668\n",
            "y7 = 49.333333333333336\n",
            "y8 = 72.66666666666667\n",
            "y9 = 84.0\n",
            "y10 = 93.33333333333333\n",
            "y11 = 116.33333333333333\n"
          ],
          "name": "stdout"
        }
      ]
    },
    {
      "cell_type": "code",
      "metadata": {
        "id": "eeCqeV3G1D1c"
      },
      "source": [
        ""
      ],
      "execution_count": null,
      "outputs": []
    }
  ]
}