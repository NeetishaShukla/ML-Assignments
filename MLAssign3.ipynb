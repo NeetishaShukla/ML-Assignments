{
  "nbformat": 4,
  "nbformat_minor": 0,
  "metadata": {
    "colab": {
      "name": "MLAssign3.ipynb",
      "provenance": []
    },
    "kernelspec": {
      "name": "python3",
      "display_name": "Python 3"
    }
  },
  "cells": [
    {
      "cell_type": "markdown",
      "metadata": {
        "id": "4K3mI4zFQGgD",
        "colab_type": "text"
      },
      "source": [
        "# **ML Assignment 3**"
      ]
    },
    {
      "cell_type": "code",
      "metadata": {
        "id": "mAAIFWGt5Cah",
        "colab_type": "code",
        "colab": {}
      },
      "source": [
        "# Question 1.1\n",
        "def sum(a,b):\n",
        "  # print( \"sum is \",a+b)\n",
        "  return a+b\n",
        "def product(a,b):\n",
        "  return a*b"
      ],
      "execution_count": 157,
      "outputs": []
    },
    {
      "cell_type": "code",
      "metadata": {
        "id": "2iEC8ZcfJwfh",
        "colab_type": "code",
        "colab": {
          "base_uri": "https://localhost:8080/",
          "height": 35
        },
        "outputId": "82987857-43f6-4366-fcf2-319c795b649b"
      },
      "source": [
        "def myreduce(func,l):\n",
        "  res= func(l[0],l[1])\n",
        "  for i in range (2,len(l)):\n",
        "    res= func(res,l[i])\n",
        "    \n",
        "  return res\n",
        "\n",
        "myreduce(sum,[1,2,3,4,5])"
      ],
      "execution_count": 158,
      "outputs": [
        {
          "output_type": "execute_result",
          "data": {
            "text/plain": [
              "15"
            ]
          },
          "metadata": {
            "tags": []
          },
          "execution_count": 158
        }
      ]
    },
    {
      "cell_type": "code",
      "metadata": {
        "id": "D0PbTILHNQJJ",
        "colab_type": "code",
        "colab": {
          "base_uri": "https://localhost:8080/",
          "height": 35
        },
        "outputId": "d4c0163c-838b-4b08-f3fe-171421274f1b"
      },
      "source": [
        "myreduce(product,[1,2,1,2,3])"
      ],
      "execution_count": 159,
      "outputs": [
        {
          "output_type": "execute_result",
          "data": {
            "text/plain": [
              "12"
            ]
          },
          "metadata": {
            "tags": []
          },
          "execution_count": 159
        }
      ]
    },
    {
      "cell_type": "code",
      "metadata": {
        "id": "1rWIn_iAOMwn",
        "colab_type": "code",
        "colab": {
          "base_uri": "https://localhost:8080/",
          "height": 53
        },
        "outputId": "2f3c2466-dfe0-4b41-f8d7-78f9b6374250"
      },
      "source": [
        "# Question 1.2\n",
        "def myfilter(func,l):\n",
        "  ans=[]\n",
        "  for i in range(len(l)):\n",
        "    if func(l[i]):\n",
        "      ans.append(l[i])\n",
        "  return ans\n",
        "\n",
        "def myfilter2(func,l):\n",
        "  return [ l[i] for i in range(len(l)) if func(l[i])]\n",
        "\n",
        "l=[1,2,3,4,5,6,7,8,13,85,94]\n",
        "print(myfilter(lambda x: x%2==0,l))\n",
        "print(myfilter2(lambda x: x%2==0,l))"
      ],
      "execution_count": 161,
      "outputs": [
        {
          "output_type": "stream",
          "text": [
            "[2, 4, 6, 8, 94]\n",
            "[2, 4, 6, 8, 94]\n"
          ],
          "name": "stdout"
        }
      ]
    },
    {
      "cell_type": "markdown",
      "metadata": {
        "id": "shsF5ThDP_bq",
        "colab_type": "text"
      },
      "source": [
        "--------------------------------------------------------------------------------"
      ]
    },
    {
      "cell_type": "code",
      "metadata": {
        "id": "lTFdGPP1pl3i",
        "colab_type": "code",
        "colab": {
          "base_uri": "https://localhost:8080/",
          "height": 35
        },
        "outputId": "07e66eea-3ca4-4f38-ea51-8960520aa0e7"
      },
      "source": [
        "# Question 2 (a)\n",
        "l=list('xyz')\n",
        "[i*j for i in l for j in range(1,5)]"
      ],
      "execution_count": 154,
      "outputs": [
        {
          "output_type": "execute_result",
          "data": {
            "text/plain": [
              "['x', 'xx', 'xxx', 'xxxx', 'y', 'yy', 'yyy', 'yyyy', 'z', 'zz', 'zzz', 'zzzz']"
            ]
          },
          "metadata": {
            "tags": []
          },
          "execution_count": 154
        }
      ]
    },
    {
      "cell_type": "code",
      "metadata": {
        "id": "I8YzyoJKnpxb",
        "colab_type": "code",
        "colab": {
          "base_uri": "https://localhost:8080/",
          "height": 35
        },
        "outputId": "c990443e-5f46-46b6-bfb0-7101e323b919"
      },
      "source": [
        "# Question 2 (b)\n",
        "[i*j for j in range(1,5) for i in l ]"
      ],
      "execution_count": 27,
      "outputs": [
        {
          "output_type": "execute_result",
          "data": {
            "text/plain": [
              "['x', 'y', 'z', 'xx', 'yy', 'zz', 'xxx', 'yyy', 'zzz', 'xxxx', 'yyyy', 'zzzz']"
            ]
          },
          "metadata": {
            "tags": []
          },
          "execution_count": 27
        }
      ]
    },
    {
      "cell_type": "code",
      "metadata": {
        "id": "T2Um-Zryy0cB",
        "colab_type": "code",
        "colab": {
          "base_uri": "https://localhost:8080/",
          "height": 35
        },
        "outputId": "dc838664-2391-4561-a07b-df80e6c43fae"
      },
      "source": [
        "#  Question 2(c)\n",
        " li = [[x+y] for x in range(2,5) for y in range(3)]\n",
        " li"
      ],
      "execution_count": 96,
      "outputs": [
        {
          "output_type": "execute_result",
          "data": {
            "text/plain": [
              "[[2], [3], [4], [3], [4], [5], [4], [5], [6]]"
            ]
          },
          "metadata": {
            "tags": []
          },
          "execution_count": 96
        }
      ]
    },
    {
      "cell_type": "code",
      "metadata": {
        "id": "P8Hlzr_Rug-9",
        "colab_type": "code",
        "colab": {
          "base_uri": "https://localhost:8080/",
          "height": 35
        },
        "outputId": "22074c66-baa6-4747-a922-a0fb8d2f121b"
      },
      "source": [
        "#  Question 2 (d)\n",
        "[[i+j for j in range(2,6)] for i in range(4)]"
      ],
      "execution_count": 101,
      "outputs": [
        {
          "output_type": "execute_result",
          "data": {
            "text/plain": [
              "[[2, 3, 4, 5], [3, 4, 5, 6], [4, 5, 6, 7], [5, 6, 7, 8]]"
            ]
          },
          "metadata": {
            "tags": []
          },
          "execution_count": 101
        }
      ]
    },
    {
      "cell_type": "code",
      "metadata": {
        "id": "aJRHjwbg33gq",
        "colab_type": "code",
        "colab": {
          "base_uri": "https://localhost:8080/",
          "height": 35
        },
        "outputId": "ac2c19b4-85e1-4c72-cf13-7b75c250906e"
      },
      "source": [
        "#  Question 2 (e)\n",
        "[(i,j) for j in range(1,4) for i in range (1,4)]"
      ],
      "execution_count": 103,
      "outputs": [
        {
          "output_type": "execute_result",
          "data": {
            "text/plain": [
              "[(1, 1), (2, 1), (3, 1), (1, 2), (2, 2), (3, 2), (1, 3), (2, 3), (3, 3)]"
            ]
          },
          "metadata": {
            "tags": []
          },
          "execution_count": 103
        }
      ]
    },
    {
      "cell_type": "code",
      "metadata": {
        "id": "Jz20Djt942tW",
        "colab_type": "code",
        "colab": {}
      },
      "source": [
        ""
      ],
      "execution_count": null,
      "outputs": []
    }
  ]
}