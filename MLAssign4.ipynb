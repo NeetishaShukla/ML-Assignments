{
  "nbformat": 4,
  "nbformat_minor": 0,
  "metadata": {
    "colab": {
      "name": "MLAssign4.ipynb",
      "provenance": []
    },
    "kernelspec": {
      "name": "python3",
      "display_name": "Python 3"
    }
  },
  "cells": [
    {
      "cell_type": "markdown",
      "metadata": {
        "id": "q6t56D61TI7j",
        "colab_type": "text"
      },
      "source": [
        "# **ML Assignmnet 4**"
      ]
    },
    {
      "cell_type": "code",
      "metadata": {
        "id": "89lvGq-3Sifa",
        "colab_type": "code",
        "colab": {}
      },
      "source": [
        "# Question 1.1\n",
        "class Triangle :\n",
        "  def __init__(self):\n",
        "    self.a=int(input(\"enter side a\"))\n",
        "    self.b=int(input(\"enter side b\"))\n",
        "    self.c=int(input(\"enter side c\"))\n",
        "  \n",
        "class Area (Triangle):\n",
        "  def __init__(self ,*args):\n",
        "    super(Area,self).__init__(*args)\n",
        "    self.s= (self.a+self.b+self.c)/2\n",
        "    print(self.s)\n",
        "  \n",
        "  def findarea(self):\n",
        "    s,a,b,c=self.s,self.a,self.b,self.c\n",
        "    area= (s*(s-a)*(s-b)*(s-c)) ** 0.5\n",
        "    return area"
      ],
      "execution_count": 48,
      "outputs": []
    },
    {
      "cell_type": "code",
      "metadata": {
        "id": "yq7Y28GlXrSp",
        "colab_type": "code",
        "colab": {
          "base_uri": "https://localhost:8080/",
          "height": 108
        },
        "outputId": "9de6164f-b5b0-4d5e-f146-9a3d9dc3e66d"
      },
      "source": [
        "obj= Area()\n",
        "print( \"area is \",obj.findarea())"
      ],
      "execution_count": 52,
      "outputs": [
        {
          "output_type": "stream",
          "text": [
            "enter side a8\n",
            "enter side b9\n",
            "enter side c11\n",
            "14.0\n",
            "area is  35.4964786985977\n"
          ],
          "name": "stdout"
        }
      ]
    },
    {
      "cell_type": "code",
      "metadata": {
        "id": "8INzkb4DX377",
        "colab_type": "code",
        "colab": {
          "base_uri": "https://localhost:8080/",
          "height": 181
        },
        "outputId": "0fce70d0-ce84-40ca-f609-93087f56f7ae"
      },
      "source": [
        "#  Question 1.2\n",
        "def filter_long_words(words,n):\n",
        "  ans=[]\n",
        "  for word in words:\n",
        "    if len(word)>n:\n",
        "      ans.append(word)\n",
        "  return ans\n",
        "words= \"Write a function filter_long_words() that takes a list of words and an integer n and returns the list of words that are longer than n.\".split(sep=\" \")\n",
        "filter_long_words(words,4)"
      ],
      "execution_count": 56,
      "outputs": [
        {
          "output_type": "execute_result",
          "data": {
            "text/plain": [
              "['Write',\n",
              " 'function',\n",
              " 'filter_long_words()',\n",
              " 'takes',\n",
              " 'words',\n",
              " 'integer',\n",
              " 'returns',\n",
              " 'words',\n",
              " 'longer']"
            ]
          },
          "metadata": {
            "tags": []
          },
          "execution_count": 56
        }
      ]
    },
    {
      "cell_type": "code",
      "metadata": {
        "id": "AmbshqdQeeSZ",
        "colab_type": "code",
        "colab": {
          "base_uri": "https://localhost:8080/",
          "height": 35
        },
        "outputId": "107a69e2-0fe6-45ad-c2d8-c438258d9606"
      },
      "source": [
        "list(map(lambda word:len(word), words ))\n",
        "\n"
      ],
      "execution_count": 62,
      "outputs": [
        {
          "output_type": "execute_result",
          "data": {
            "text/plain": [
              "[5, 1, 8, 19, 4, 5, 1, 4, 2, 5, 3, 2, 7, 1, 3, 7, 3, 4, 2, 5, 4, 3, 6, 4, 2]"
            ]
          },
          "metadata": {
            "tags": []
          },
          "execution_count": 62
        }
      ]
    },
    {
      "cell_type": "code",
      "metadata": {
        "id": "qTI1KX8_gSbh",
        "colab_type": "code",
        "colab": {
          "base_uri": "https://localhost:8080/",
          "height": 35
        },
        "outputId": "a41f1d10-aa3d-49f5-e038-d5dce18ff27e"
      },
      "source": [
        "#  Question 2.1\n",
        "def mapping(words):\n",
        "  length=[]\n",
        "  for word in words:\n",
        "    length.append(len(word))\n",
        "  return length\n",
        "\n",
        "print(mapping(words))"
      ],
      "execution_count": 63,
      "outputs": [
        {
          "output_type": "stream",
          "text": [
            "[5, 1, 8, 19, 4, 5, 1, 4, 2, 5, 3, 2, 7, 1, 3, 7, 3, 4, 2, 5, 4, 3, 6, 4, 2]\n"
          ],
          "name": "stdout"
        }
      ]
    },
    {
      "cell_type": "code",
      "metadata": {
        "id": "UCexoD7kfk6L",
        "colab_type": "code",
        "colab": {
          "base_uri": "https://localhost:8080/",
          "height": 35
        },
        "outputId": "e7a110bc-b200-4ae7-d610-b9c196318081"
      },
      "source": [
        "# Questions 2.2\n",
        "def tellIfVowel(ch):\n",
        "  if ch in ['a','i','e','o','u']:\n",
        "    return True \n",
        "  else:\n",
        "    return False \n",
        "\n",
        "tellIfVowel('k')"
      ],
      "execution_count": 67,
      "outputs": [
        {
          "output_type": "execute_result",
          "data": {
            "text/plain": [
              "False"
            ]
          },
          "metadata": {
            "tags": []
          },
          "execution_count": 67
        }
      ]
    },
    {
      "cell_type": "code",
      "metadata": {
        "id": "mHnV-XrHg9IG",
        "colab_type": "code",
        "colab": {
          "base_uri": "https://localhost:8080/",
          "height": 35
        },
        "outputId": "a8e98f1a-628d-4d2c-d914-be9e2b571d68"
      },
      "source": [
        "tellIfVowel('a')"
      ],
      "execution_count": 68,
      "outputs": [
        {
          "output_type": "execute_result",
          "data": {
            "text/plain": [
              "True"
            ]
          },
          "metadata": {
            "tags": []
          },
          "execution_count": 68
        }
      ]
    },
    {
      "cell_type": "code",
      "metadata": {
        "id": "SNRzryJNhXIW",
        "colab_type": "code",
        "colab": {}
      },
      "source": [
        ""
      ],
      "execution_count": null,
      "outputs": []
    }
  ]
}